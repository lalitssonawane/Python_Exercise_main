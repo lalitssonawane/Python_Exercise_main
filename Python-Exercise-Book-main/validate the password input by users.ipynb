{
 "cells": [
  {
   "cell_type": "markdown",
   "metadata": {},
   "source": [
    "<h3>Write a Python function to validate the password input by users.</h3>\n",
    "Validation Rules are:<br>\n",
    "At least 1 letter between [a-z] and 1 letter between [A-Z].<br>\n",
    "At least 1 number between [0-9].<br>\n",
    "At least 1 character from [$#@].<br>\n",
    "Minimum length 6 characters.<br>\n",
    "Maximum length 16 characters.<br>"
   ]
  },
  {
   "cell_type": "code",
   "execution_count": 2,
   "metadata": {},
   "outputs": [
    {
     "name": "stdout",
     "output_type": "stream",
     "text": [
      "Ategd656#sdf\n",
      "Valid Password\n"
     ]
    }
   ],
   "source": [
    "def passVaild(password):\n",
    "    l, u, d, s = 0, 0, 0, 0\n",
    "    if len(password) >= 6 or len(password) <= 16:\n",
    "        for i in password:\n",
    "            if i.islower():\n",
    "                l += 1\n",
    "            if i.isupper():\n",
    "                u += 1\n",
    "            if i.isdigit():\n",
    "                d += 1\n",
    "            if i == '$' or i == '@' or i == '#':\n",
    "                s += 1\n",
    "    if l >= 1 and u >= 1 and d >= 1 and s >= 1 and l + u + d + s == len(password):\n",
    "        print('Valid Password')\n",
    "    else:\n",
    "        print('Invaild Password')\n",
    "\n",
    "# Main Code\n",
    "password = input()\n",
    "passVaild(password)\n"
   ]
  }
 ],
 "metadata": {
  "kernelspec": {
   "display_name": "Python 3",
   "language": "python",
   "name": "python3"
  },
  "language_info": {
   "codemirror_mode": {
    "name": "ipython",
    "version": 3
   },
   "file_extension": ".py",
   "mimetype": "text/x-python",
   "name": "python",
   "nbconvert_exporter": "python",
   "pygments_lexer": "ipython3",
   "version": "3.8.6"
  }
 },
 "nbformat": 4,
 "nbformat_minor": 4
}
