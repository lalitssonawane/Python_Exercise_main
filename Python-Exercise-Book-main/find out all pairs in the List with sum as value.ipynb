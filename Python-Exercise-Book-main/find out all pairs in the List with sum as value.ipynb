{
 "cells": [
  {
   "cell_type": "markdown",
   "metadata": {},
   "source": [
    "Given a list L and an Integer val, find out all pairs in the List L with sum as val.<br>\n",
    "<b> L=[ 1, 2, -1, -3, 4] val=3 returns (1,2) (-1,4)<b>"
   ]
  },
  {
   "cell_type": "code",
   "execution_count": 6,
   "metadata": {},
   "outputs": [
    {
     "name": "stdout",
     "output_type": "stream",
     "text": [
      "Type the list like this '1 2 -1 -3 4' :1 2 -1 -3 4\n",
      "Type the Number you want Equal to that :3\n",
      "(1,2) (-1,4) "
     ]
    }
   ],
   "source": [
    "L = [int(x) for x in input(\"Type the list like this '1 2 -1 -3 4' :\").split()]\n",
    "val = int(input(\"Type the Number you want Equal to that :\"))\n",
    "size = len(L)\n",
    "for i in range(size - 1):\n",
    "    for j in range(i + 1, size):\n",
    "        if L[i] + L[j] == val:\n",
    "            print(f\"({L[i]},{L[j]})\",end=\" \")"
   ]
  },
  {
   "cell_type": "code",
   "execution_count": null,
   "metadata": {},
   "outputs": [],
   "source": []
  }
 ],
 "metadata": {
  "kernelspec": {
   "display_name": "Python 3",
   "language": "python",
   "name": "python3"
  },
  "language_info": {
   "codemirror_mode": {
    "name": "ipython",
    "version": 3
   },
   "file_extension": ".py",
   "mimetype": "text/x-python",
   "name": "python",
   "nbconvert_exporter": "python",
   "pygments_lexer": "ipython3",
   "version": "3.8.6"
  }
 },
 "nbformat": 4,
 "nbformat_minor": 4
}
