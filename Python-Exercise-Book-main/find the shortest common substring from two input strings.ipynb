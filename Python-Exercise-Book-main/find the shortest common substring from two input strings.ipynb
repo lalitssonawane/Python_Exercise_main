{
 "cells": [
  {
   "cell_type": "markdown",
   "metadata": {},
   "source": [
    "<h3>Write a Python code to find the shortest common substring from two input strings.</h3>"
   ]
  },
  {
   "cell_type": "code",
   "execution_count": 6,
   "metadata": {},
   "outputs": [
    {
     "name": "stdout",
     "output_type": "stream",
     "text": [
      "Type 1st String :Hello How\n",
      "Type 2st String :How\n",
      "No of Letter : 3 ,Word=> How\n"
     ]
    }
   ],
   "source": [
    "#We use Set To Multiple \"is\" \"are\" \"am\" can get removed\n",
    "st1_s = set(input(\"Type 1st String :\").split())\n",
    "st2_s = set(input(\"Type 2st String :\").split())\n",
    "\n",
    "#From Intersection We can Get Common Word From Bot set\n",
    "intersection_list = list(st2_s.intersection(st1_s))\n",
    "\n",
    "# Count the Shortest\n",
    "no_char = 9999\n",
    "w_char = '*'\n",
    "\n",
    "for i in intersection_list:\n",
    "    if len(i) <= no_char:\n",
    "        no_char = len(i)\n",
    "        w_char = i\n",
    "        print(\"No of Letter :\",no_char,\",Word=>\",w_char)\n"
   ]
  },
  {
   "cell_type": "code",
   "execution_count": null,
   "metadata": {},
   "outputs": [],
   "source": []
  }
 ],
 "metadata": {
  "kernelspec": {
   "display_name": "Python 3",
   "language": "python",
   "name": "python3"
  },
  "language_info": {
   "codemirror_mode": {
    "name": "ipython",
    "version": 3
   },
   "file_extension": ".py",
   "mimetype": "text/x-python",
   "name": "python",
   "nbconvert_exporter": "python",
   "pygments_lexer": "ipython3",
   "version": "3.8.6"
  }
 },
 "nbformat": 4,
 "nbformat_minor": 4
}
