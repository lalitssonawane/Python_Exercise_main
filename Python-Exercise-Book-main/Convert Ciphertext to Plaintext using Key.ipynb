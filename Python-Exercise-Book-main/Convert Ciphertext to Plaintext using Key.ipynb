{
 "cells": [
  {
   "cell_type": "markdown",
   "metadata": {},
   "source": [
    "<h3>Convert Ciphertext to Plaintext using Key</h3><br>\n",
    "Try to find the plaintext from the Cipertext and key in the <strong>\"Convert Plaintext to Ciphertext using Key\"</strong> question"
   ]
  },
  {
   "cell_type": "code",
   "execution_count": 1,
   "metadata": {},
   "outputs": [
    {
     "name": "stdout",
     "output_type": "stream",
     "text": [
      "Type your Text :KFFOP\n",
      "Type Key to you DECRYPT :cat\n",
      "Cipher: KFFOP\n",
      "Simple Text: HELLO\n"
     ]
    }
   ],
   "source": [
    "def decrypt(text, key):\n",
    "    result = \"\"\n",
    "\n",
    "    # making Key of same size\n",
    "    size_st = len(text)\n",
    "    size_key = len(key)\n",
    "    if size_st > size_key:\n",
    "        multi = size_st // size_key\n",
    "        rem = size_st % size_key\n",
    "        key = (key) * multi\n",
    "        for i in range(rem):\n",
    "            key += key[i]\n",
    "\n",
    "    # To decrypt\n",
    "    for i in range(len(text)):\n",
    "        char = text[i]\n",
    "        key_char = key[i]\n",
    "        result += chr((ord(char) - ord(key_char)) % 26 + 64)\n",
    "\n",
    "    return result\n",
    "\n",
    "\n",
    "Cipher = input(\"Type your Text :\").upper()\n",
    "KEY = input(\"Type Key to you DECRYPT :\").upper()\n",
    "\n",
    "print(\"Cipher: \" + Cipher)\n",
    "print(\"Simple Text: \" + decrypt(Cipher, KEY))"
   ]
  }
 ],
 "metadata": {
  "kernelspec": {
   "display_name": "Python 3",
   "language": "python",
   "name": "python3"
  },
  "language_info": {
   "codemirror_mode": {
    "name": "ipython",
    "version": 3
   },
   "file_extension": ".py",
   "mimetype": "text/x-python",
   "name": "python",
   "nbconvert_exporter": "python",
   "pygments_lexer": "ipython3",
   "version": "3.8.6"
  }
 },
 "nbformat": 4,
 "nbformat_minor": 4
}
