{
 "cells": [
  {
   "cell_type": "markdown",
   "metadata": {},
   "source": [
    "<h3>Write a python function which takes your date of birth in (“mm/dd/yyyy”) format\n",
    "and returns your age in years, months and days</h3>\n"
   ]
  },
  {
   "cell_type": "code",
   "execution_count": 1,
   "metadata": {},
   "outputs": [],
   "source": [
    "def findAge(birth_date, birth_month, birth_year):\n",
    "    if birth_month % 4 == 0 and birth_month % 100 != 0:\n",
    "        month = [31, 29, 31, 30, 31, 30, 31, 31, 30, 31, 30, 31]\n",
    "    elif birth_month % 400 == 0:\n",
    "        month = [31, 29, 31, 30, 31, 30, 31, 31, 30, 31, 30, 31]\n",
    "    else:\n",
    "        month = [31, 28, 31, 30, 31, 30, 31, 31, 30, 31, 30, 31]\n",
    "\n",
    "    from datetime import date\n",
    "    today = date.today().strftime(\"%d/%m/%Y\")\n",
    "    tlist = today.split(\"/\")\n",
    "    curr_date, curr_month, curr_year = int(tlist[0]), int(tlist[1]), int(tlist[2])\n",
    "\n",
    "    if (birth_date > curr_date):\n",
    "        curr_month = curr_month - 1\n",
    "        curr_date = curr_date + month[birth_month - 1]\n",
    "\n",
    "    if (birth_month > curr_month):\n",
    "        curr_year = curr_year - 1\n",
    "        curr_month = curr_month + 12\n",
    "\n",
    "    cal_date = curr_date - birth_date\n",
    "    cal_mon = curr_month - birth_month\n",
    "    cal_year = curr_year - birth_year\n",
    "\n",
    "    print(f\"Date={cal_date},Months={cal_mon},Years={cal_year}\")"
   ]
  },
  {
   "cell_type": "code",
   "execution_count": 3,
   "metadata": {},
   "outputs": [
    {
     "name": "stdout",
     "output_type": "stream",
     "text": [
      "Type your Date in 30/08/2001 this Format :25/04/2004\n",
      "Date=15,Months=6,Years=16\n"
     ]
    }
   ],
   "source": [
    "#Main Code\n",
    "blist = input(\"Type your Date in 30/08/2001 this Format :\").split(\"/\")\n",
    "bdate, bmonth, byear = int(blist[0]), int(blist[1]), int(blist[2])\n",
    "\n",
    "findAge(bdate, bmonth, byear)"
   ]
  },
  {
   "cell_type": "code",
   "execution_count": null,
   "metadata": {},
   "outputs": [],
   "source": []
  }
 ],
 "metadata": {
  "kernelspec": {
   "display_name": "Python 3",
   "language": "python",
   "name": "python3"
  },
  "language_info": {
   "codemirror_mode": {
    "name": "ipython",
    "version": 3
   },
   "file_extension": ".py",
   "mimetype": "text/x-python",
   "name": "python",
   "nbconvert_exporter": "python",
   "pygments_lexer": "ipython3",
   "version": "3.8.6"
  }
 },
 "nbformat": 4,
 "nbformat_minor": 4
}
