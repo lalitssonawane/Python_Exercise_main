{
 "cells": [
  {
   "cell_type": "markdown",
   "metadata": {},
   "source": [
    "<h3>Convert Plaintext to Ciphertext using Key</h3><br>\n",
    "Ciphertext refers to a message encoded with a particular key. Plaintext refers to the original, unencoded text. In this problem, both the ciphertext and the key are simply strings of upper-case characters.<br><br>\n",
    "The ciphertext is generated from the plaintext by “adding” corresponding characters of the plaintext and the key together. If the plaintext is shorter than the key, only some of the key will be used. Similarly, if the plaintext is shorter than the key, the key will be used multiple times.<br><br>\n",
    "For example, to encode the plaintext “HELLO” with the key “CAT”: Plaintext: HELLO Key: CATCA Ciphertext: KFFOP And to encode the plaintext “DOG” with the key “FIDO”: Plaintext: DOG Key: FID Ciphertext: JXK<br><br>\n",
    "To add two letters together, use the following convention: A=1, B=2, …, Z=26. If the sum of two letters is greater than 26, subtract 26 from the sum. For example: A + E = 1 + 5 = 6 = F, and D + X = 4 + 24 = 28 = 2 = B. "
   ]
  },
  {
   "cell_type": "code",
   "execution_count": 1,
   "metadata": {},
   "outputs": [
    {
     "name": "stdout",
     "output_type": "stream",
     "text": [
      "Type your Text :hello\n",
      "Type your Key to Encrypt :Cat\n",
      "Text : HELLO\n",
      "Cipher: KFFOP\n"
     ]
    }
   ],
   "source": [
    "def encrypt(text, key):\n",
    "    result = \"\"\n",
    "\n",
    "    # making Key of same size\n",
    "    size_st = len(text)\n",
    "    size_key = len(key)\n",
    "    if size_st > size_key:\n",
    "        multi = size_st // size_key\n",
    "        rem = size_st % size_key\n",
    "        key = (key) * multi\n",
    "        for i in range(rem):\n",
    "            key += key[i]\n",
    "\n",
    "    # To Encrpt\n",
    "    for i in range(len(text)):\n",
    "        char = text[i]\n",
    "        key_char = key[i]\n",
    "        result += chr((ord(char) + ord(key_char) - 129) % 26 + 65)\n",
    "    return result\n",
    "\n",
    "\n",
    "text = input(\"Type your Text :\").upper()\n",
    "KEY = input(\"Type your Key to Encrypt :\").upper()\n",
    "\n",
    "print(\"Text : \" + text)\n",
    "print(\"Cipher: \" + encrypt(text, KEY))\n"
   ]
  }
 ],
 "metadata": {
  "kernelspec": {
   "display_name": "Python 3",
   "language": "python",
   "name": "python3"
  },
  "language_info": {
   "codemirror_mode": {
    "name": "ipython",
    "version": 3
   },
   "file_extension": ".py",
   "mimetype": "text/x-python",
   "name": "python",
   "nbconvert_exporter": "python",
   "pygments_lexer": "ipython3",
   "version": "3.8.6"
  }
 },
 "nbformat": 4,
 "nbformat_minor": 4
}
