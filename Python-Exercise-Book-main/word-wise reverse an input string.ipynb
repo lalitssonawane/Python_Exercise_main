{
 "cells": [
  {
   "cell_type": "markdown",
   "metadata": {},
   "source": [
    "<h3>Write a python code to word-wise reverse an input string</h3>"
   ]
  },
  {
   "cell_type": "code",
   "execution_count": 2,
   "metadata": {},
   "outputs": [
    {
     "name": "stdout",
     "output_type": "stream",
     "text": [
      "Type Your sentence :What going On\n",
      "tahW gniog nO "
     ]
    }
   ],
   "source": [
    "st = input(\"Type Your sentence :\")\n",
    "st_split = st.split()\n",
    "for i in st_split:\n",
    "    new = i[::-1]\n",
    "    print(new, end=\" \")"
   ]
  }
 ],
 "metadata": {
  "kernelspec": {
   "display_name": "Python 3",
   "language": "python",
   "name": "python3"
  },
  "language_info": {
   "codemirror_mode": {
    "name": "ipython",
    "version": 3
   },
   "file_extension": ".py",
   "mimetype": "text/x-python",
   "name": "python",
   "nbconvert_exporter": "python",
   "pygments_lexer": "ipython3",
   "version": "3.8.6"
  }
 },
 "nbformat": 4,
 "nbformat_minor": 4
}
