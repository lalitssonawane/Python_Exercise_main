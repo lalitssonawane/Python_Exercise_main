{
 "cells": [
  {
   "cell_type": "markdown",
   "metadata": {},
   "source": [
    "<h3>Write a python program to print each combination of characters in a given string.</h3>"
   ]
  },
  {
   "cell_type": "code",
   "execution_count": 2,
   "metadata": {},
   "outputs": [
    {
     "name": "stdout",
     "output_type": "stream",
     "text": [
      "Type the Word You Want to Permutation :HiBe\n",
      "['HiBe', 'HieB', 'HBie', 'HBei', 'HeiB', 'HeBi', 'iHBe', 'iHeB', 'iBHe', 'iBeH', 'ieHB', 'ieBH', 'BHie', 'BHei', 'BiHe', 'BieH', 'BeHi', 'BeiH', 'eHiB', 'eHBi', 'eiHB', 'eiBH', 'eBHi', 'eBiH']\n"
     ]
    }
   ],
   "source": [
    "#Note Donot use Big Letter,It will Take then \n",
    "st = input(\"Type the Word You Want to Permutation :\")\n",
    "li = list(st)\n",
    "from itertools import permutations\n",
    "print([''.join(p) for p in permutations(st)])"
   ]
  }
 ],
 "metadata": {
  "kernelspec": {
   "display_name": "Python 3",
   "language": "python",
   "name": "python3"
  },
  "language_info": {
   "codemirror_mode": {
    "name": "ipython",
    "version": 3
   },
   "file_extension": ".py",
   "mimetype": "text/x-python",
   "name": "python",
   "nbconvert_exporter": "python",
   "pygments_lexer": "ipython3",
   "version": "3.8.6"
  }
 },
 "nbformat": 4,
 "nbformat_minor": 4
}
