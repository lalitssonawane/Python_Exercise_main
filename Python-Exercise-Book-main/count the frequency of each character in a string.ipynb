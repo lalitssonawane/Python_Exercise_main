{
 "cells": [
  {
   "cell_type": "markdown",
   "metadata": {},
   "source": [
    "<h3>Write a Python function to count the frequency of each character in a string and\n",
    "return a dictionary containing each character and its frequency as key-value pair.</h3>"
   ]
  },
  {
   "cell_type": "code",
   "execution_count": 3,
   "metadata": {},
   "outputs": [
    {
     "name": "stdout",
     "output_type": "stream",
     "text": [
      "Type You Sentence Below\n",
      "Using Set To Get Each Distinct Charater\n",
      "{'C': 1, 'D': 1, 'E': 1, 'G': 1, 'S': 1, 'T': 1, 'U': 1, 'a': 3, 'c': 2, 'e': 3, 'g': 1, 'h': 2, 'i': 3, 'n': 2, 'o': 1, 'r': 2, 's': 2, 't': 5}\n"
     ]
    }
   ],
   "source": [
    "st = input(\"Type You Sentence Below\\n\")\n",
    "\n",
    "# Using Set To Get Each Distinct Charater\n",
    "n_set = set()\n",
    "for i in st:\n",
    "    if 'a' <= i <= 'z' or 'A' <= i <= 'Z':\n",
    "        n_set.add(i)\n",
    "n_list = list(sorted(n_set))\n",
    "\n",
    "# Now Checking frequency of each character\n",
    "freq = dict()\n",
    "for j in n_list:\n",
    "    c_char = st.count(j)\n",
    "    freq[j] = c_char\n",
    "\n",
    "print(freq)"
   ]
  },
  {
   "cell_type": "code",
   "execution_count": null,
   "metadata": {},
   "outputs": [],
   "source": []
  }
 ],
 "metadata": {
  "kernelspec": {
   "display_name": "Python 3",
   "language": "python",
   "name": "python3"
  },
  "language_info": {
   "codemirror_mode": {
    "name": "ipython",
    "version": 3
   },
   "file_extension": ".py",
   "mimetype": "text/x-python",
   "name": "python",
   "nbconvert_exporter": "python",
   "pygments_lexer": "ipython3",
   "version": "3.8.6"
  }
 },
 "nbformat": 4,
 "nbformat_minor": 4
}
