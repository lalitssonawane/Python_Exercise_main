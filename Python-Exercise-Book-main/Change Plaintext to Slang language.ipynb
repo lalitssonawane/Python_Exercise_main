{
 "cells": [
  {
   "cell_type": "markdown",
   "metadata": {},
   "source": [
    "<h3>Change Plaintext to Slang language</h3><br>\n",
    "Slang language in English is used to chat on mobiles these days. Can u create a converter in Python which converts each English sentence in to its slang form.<br><br>\n",
    "<b>Note: You can choose your own slang language rules</b>"
   ]
  },
  {
   "cell_type": "code",
   "execution_count": 8,
   "metadata": {},
   "outputs": [
    {
     "name": "stdout",
     "output_type": "stream",
     "text": [
      "Type Your Sentence :See You Later\n",
      "Converted Sentence : C U L8R\n"
     ]
    }
   ],
   "source": [
    "#Remove or Add More Word You want to Use\n",
    "Slang_Dict = {\"Later\": \"L8R\", \"and\": \"&\", \"See\": \"C\", \"Date\": \"D8\", \"You\": \"U\"}\n",
    "\n",
    "st = input(\"Type Your Sentence :\")\n",
    "keys_s = list(Slang_Dict.keys())\n",
    "for i in range(len(keys_s)):\n",
    "    st = st.replace(keys_s[i], Slang_Dict[keys_s[i]])\n",
    "\n",
    "print(\"Converted Sentence :\",st)"
   ]
  }
 ],
 "metadata": {
  "kernelspec": {
   "display_name": "Python 3",
   "language": "python",
   "name": "python3"
  },
  "language_info": {
   "codemirror_mode": {
    "name": "ipython",
    "version": 3
   },
   "file_extension": ".py",
   "mimetype": "text/x-python",
   "name": "python",
   "nbconvert_exporter": "python",
   "pygments_lexer": "ipython3",
   "version": "3.8.6"
  }
 },
 "nbformat": 4,
 "nbformat_minor": 4
}
