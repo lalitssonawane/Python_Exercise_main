{
 "cells": [
  {
   "cell_type": "markdown",
   "metadata": {},
   "source": [
    "<h3>Find whether the two given strings are anagrams or not</h3><br>\n",
    "Anagrams are words or phrases made by mixing up the letters of other words or phrases, Write a code to find whether the two given strings are anagrams or not.For example, “the eyes” and “they see” are anagrams."
   ]
  },
  {
   "cell_type": "code",
   "execution_count": 8,
   "metadata": {},
   "outputs": [
    {
     "name": "stdout",
     "output_type": "stream",
     "text": [
      "Type First String :the eyes\n",
      "Type Second String:they see\n",
      "Are Anagrams\n"
     ]
    }
   ],
   "source": [
    "st1 = input(\"Type First String :\")\n",
    "st2 = input(\"Type Second String:\")\n",
    "\n",
    "# Using Set To Get Each Distinct Charater\n",
    "st1_set = set()\n",
    "st2_set = set()\n",
    "\n",
    "for i in st1:\n",
    "    if 'a' <= i <= 'z' or 'A' <= i <= 'Z':\n",
    "        st1_set.add(i)\n",
    "st1_list = list(sorted(st1_set))\n",
    "\n",
    "for i in st2:\n",
    "    if 'a' <= i <= 'z' or 'A' <= i <= 'Z':\n",
    "        st2_set.add(i)\n",
    "st2_list = list(sorted(st2_set))\n",
    "\n",
    "# Now Checking Anagrams\n",
    "if len(st1_list) == len(st2_list):\n",
    "    for j in st1_list:\n",
    "        if st1.count(j) != st2.count(j):\n",
    "            print(\"Are not Anagrams\")\n",
    "            break\n",
    "    else:\n",
    "        print(\"Are Anagrams\")\n",
    "else:\n",
    "    print(\"Are not Anagrams\")"
   ]
  }
 ],
 "metadata": {
  "kernelspec": {
   "display_name": "Python 3",
   "language": "python",
   "name": "python3"
  },
  "language_info": {
   "codemirror_mode": {
    "name": "ipython",
    "version": 3
   },
   "file_extension": ".py",
   "mimetype": "text/x-python",
   "name": "python",
   "nbconvert_exporter": "python",
   "pygments_lexer": "ipython3",
   "version": "3.8.6"
  }
 },
 "nbformat": 4,
 "nbformat_minor": 4
}
