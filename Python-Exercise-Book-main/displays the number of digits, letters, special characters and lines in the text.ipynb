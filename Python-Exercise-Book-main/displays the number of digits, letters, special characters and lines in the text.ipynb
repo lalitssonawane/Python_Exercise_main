{
 "cells": [
  {
   "cell_type": "markdown",
   "metadata": {},
   "source": [
    "<h3>Question 1. Write a Python function that accepts a multi-line text and displays the number of digits, letters, special characters and lines in the text.<h3>\n"
   ]
  },
  {
   "cell_type": "code",
   "execution_count": 1,
   "metadata": {},
   "outputs": [],
   "source": [
    "def alpha(alist):\n",
    "    all_apha = list()\n",
    "    for i in alist:\n",
    "        if \"a\" <= i <= \"z\" or \"A\" <= i <= \"Z\":\n",
    "            all_apha.append(i)\n",
    "    if len(all_apha) == 0:\n",
    "        print(\"No Alphabet Give By User\")\n",
    "    else:\n",
    "        print(f\"Total Distinct Alphabet:{len(all_apha)} ==> {', '.join(all_apha)}\", )\n",
    "\n",
    "\n",
    "def all_no(alist):\n",
    "    all_no = list()\n",
    "    for i in alist:\n",
    "        if '0' <= i <= \"9\":\n",
    "            all_no.append(i)\n",
    "    if len(all_no) == 0:\n",
    "        print(\"No Number Give By User\")\n",
    "    else:\n",
    "        print(f\"Total Distinct Number:{len(all_no)} ==> {', '.join(all_no)}\", )\n",
    "\n",
    "\n",
    "def all_special_char(alist):\n",
    "    special_char = list()\n",
    "    for i in alist:\n",
    "        if \"!\" <= i <= \"/\" or \":\" <= i <= \"@\" or \"[\" <= i <= \"`\" or \"{\" <= i <= \"~\":\n",
    "            special_char.append(i)\n",
    "\n",
    "    if len(special_char) == 0:\n",
    "        print(\"No Special Character Give By User\")\n",
    "    else:\n",
    "        print(f\"Total Distinct Special Character:{len(special_char)} ==> {', '.join(special_char)}\", )\n",
    "\n",
    "\n"
   ]
  },
  {
   "cell_type": "code",
   "execution_count": 5,
   "metadata": {},
   "outputs": [
    {
     "name": "stdout",
     "output_type": "stream",
     "text": [
      "After you have Written All Line,Press Enter and then Again Enter\n",
      "Can i get you Number\n",
      "yes of course\n",
      "96#$^&***#158\n",
      "invaild Number\n",
      "\n",
      "Total No of Line : 4\n",
      "Total Distinct Alphabet:20 ==> f, b, y, a, d, l, t, s, m, n, C, e, g, i, u, r, N, o, v, c\n",
      "Total Distinct Number:5 ==> 5, 6, 9, 1, 8\n",
      "Total Distinct Special Character:5 ==> &, ^, $, *, #\n"
     ]
    }
   ],
   "source": [
    "# Main Code\n",
    "\n",
    "print(\"After you have Written All Line,Press Enter and then Again Enter\")\n",
    "# To Take User Inputs As A Multiline\n",
    "userInput=[]\n",
    "while True:\n",
    "    l = input()\n",
    "    if not l: break #To Break line At No Input\n",
    "    userInput.append(l)\n",
    "\n",
    "# Printing total No of Line\n",
    "print(f\"Total No of Line : {len(userInput)}\")\n",
    "\n",
    "# joining the each line\n",
    "userI = ''.join(userInput)\n",
    "\n",
    "# making the list of all Character\n",
    "UserL = list(userI)\n",
    "\n",
    "# Making list of distinct Character\n",
    "F_list = list(set(UserL))\n",
    "\n",
    "alpha(F_list)\n",
    "all_no(F_list)\n",
    "all_special_char(F_list)"
   ]
  }
 ],
 "metadata": {
  "kernelspec": {
   "display_name": "Python 3",
   "language": "python",
   "name": "python3"
  },
  "language_info": {
   "codemirror_mode": {
    "name": "ipython",
    "version": 3
   },
   "file_extension": ".py",
   "mimetype": "text/x-python",
   "name": "python",
   "nbconvert_exporter": "python",
   "pygments_lexer": "ipython3",
   "version": "3.8.6"
  }
 },
 "nbformat": 4,
 "nbformat_minor": 4
}
