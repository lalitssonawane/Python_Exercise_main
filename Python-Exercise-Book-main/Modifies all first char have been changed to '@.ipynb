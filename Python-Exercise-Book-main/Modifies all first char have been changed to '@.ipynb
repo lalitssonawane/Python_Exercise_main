{
 "cells": [
  {
   "cell_type": "markdown",
   "metadata": {},
   "source": [
    "<h3>Write a Python function which modifies the input string where all occurrences of\n",
    "its first char have been changed to '@', except the first char itself.</h3>\n",
    " st=input(“Enter the string :”)<br>\n",
    " define the function modifystring<br>\n",
    " print(modifystring(st))"
   ]
  },
  {
   "cell_type": "code",
   "execution_count": 8,
   "metadata": {},
   "outputs": [],
   "source": [
    "def modifystring(st):\n",
    "    st_split = st.split()\n",
    "    newst = list()\n",
    "    newst.append(st_split[0])\n",
    "    for i in range(1,len(st_split)):\n",
    "        new_word = \"@\" + st_split[i][1:]\n",
    "        newst.append(new_word)\n",
    "    new_st = (\" \").join(newst)\n",
    "    return new_st"
   ]
  },
  {
   "cell_type": "code",
   "execution_count": 10,
   "metadata": {},
   "outputs": [
    {
     "name": "stdout",
     "output_type": "stream",
     "text": [
      "Enter the string :Hello What are You Doing\n",
      "Hello @hat @re @ou @oing\n"
     ]
    }
   ],
   "source": [
    "#Main Code\n",
    "st = input(\"Enter the string :\")\n",
    "print(modifystring(st))"
   ]
  }
 ],
 "metadata": {
  "kernelspec": {
   "display_name": "Python 3",
   "language": "python",
   "name": "python3"
  },
  "language_info": {
   "codemirror_mode": {
    "name": "ipython",
    "version": 3
   },
   "file_extension": ".py",
   "mimetype": "text/x-python",
   "name": "python",
   "nbconvert_exporter": "python",
   "pygments_lexer": "ipython3",
   "version": "3.8.6"
  }
 },
 "nbformat": 4,
 "nbformat_minor": 4
}
