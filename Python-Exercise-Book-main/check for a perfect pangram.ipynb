{
 "cells": [
  {
   "cell_type": "markdown",
   "metadata": {},
   "source": [
    "<h3>Write a python function to check for a perfect pangram.</h3>\n",
    "Shashi Tharoor’s latest Facebook post, the author was off discussing the shortest\n",
    "possible sentence using all 26 letters of the English alphabet – known as a pangram\n",
    "– with his friends. Now, for all those who have spent time changing fonts or filling\n",
    "up dummy text on book layouts, the most well-known and oft-used pangram across\n",
    "the world has been “The quick brown fox jumps over the lazy dog” for years. That’s\n",
    "35 letters. A perfect pangram is a sentence that uses each letter of the alphabet\n",
    "only one time. In English this means that there are can only be 26 letters in the \n",
    "entire sentence."
   ]
  },
  {
   "cell_type": "code",
   "execution_count": 4,
   "metadata": {},
   "outputs": [
    {
     "name": "stdout",
     "output_type": "stream",
     "text": [
      "Type You Sentence Below\n",
      "Squdgy kilp job zarf nth cwm vex\n",
      "This sentence is a perfect pangram\n"
     ]
    }
   ],
   "source": [
    "st = input(\"Type You Sentence Below\\n\").lower()\n",
    "\n",
    "# Count Total Letter in String\n",
    "count_L = len(''.join(st.split()))\n",
    "\n",
    "if count_L == 26:\n",
    "    # Using Set To Get Each Distinct Charater\n",
    "    n_set = set()\n",
    "    for i in st:\n",
    "        if 'a' <= i <= 'z' or 'A' <= i <= 'Z':\n",
    "            n_set.add(i)\n",
    "\n",
    "    n_list = list(sorted(n_set))\n",
    "    Count_L = len(n_list)\n",
    "    \n",
    "    if Count_L == 26:\n",
    "        print(\"This sentence is a perfect pangram\")\n",
    "\n",
    "    else:\n",
    "        print(\"This sentence is not a perfect pangram\")\n",
    "else:\n",
    "    print(\"This sentence is not a perfect pangram\")\n"
   ]
  },
  {
   "cell_type": "code",
   "execution_count": null,
   "metadata": {},
   "outputs": [],
   "source": []
  }
 ],
 "metadata": {
  "kernelspec": {
   "display_name": "Python 3",
   "language": "python",
   "name": "python3"
  },
  "language_info": {
   "codemirror_mode": {
    "name": "ipython",
    "version": 3
   },
   "file_extension": ".py",
   "mimetype": "text/x-python",
   "name": "python",
   "nbconvert_exporter": "python",
   "pygments_lexer": "ipython3",
   "version": "3.8.6"
  }
 },
 "nbformat": 4,
 "nbformat_minor": 4
}
