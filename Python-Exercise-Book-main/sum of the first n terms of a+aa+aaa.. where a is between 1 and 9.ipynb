{
 "cells": [
  {
   "cell_type": "markdown",
   "metadata": {},
   "source": [
    "<h3>Write a python code to print the sum of the first n terms of following series a+aa+aaa+aaaa+aaaaa+aaaaaa+……. where a can be any digit between 1 and 9</h3>"
   ]
  },
  {
   "cell_type": "code",
   "execution_count": 4,
   "metadata": {},
   "outputs": [],
   "source": [
    "def sum_series(digit,no_of_term):\n",
    "    sums=0\n",
    "    t=digit\n",
    "    for i in range(no_of_term):\n",
    "        if i==0:\n",
    "            t=digit\n",
    "        else:\n",
    "            t=(digit*(10**i))+t\n",
    "        sums=sums+t\n",
    "    return sums\n"
   ]
  },
  {
   "cell_type": "code",
   "execution_count": 7,
   "metadata": {},
   "outputs": [
    {
     "name": "stdout",
     "output_type": "stream",
     "text": [
      "Type Digit from 0 to 9 :6\n",
      "Type no of n terms :5\n",
      "74070\n"
     ]
    }
   ],
   "source": [
    "#Main Code\n",
    "digit = int(input(\"Type Digit from 0 to 9 :\"))\n",
    "no_of_term = int(input(\"Type no of n terms :\"))\n",
    "print(sum_series(digit,no_of_term))"
   ]
  }
 ],
 "metadata": {
  "kernelspec": {
   "display_name": "Python 3",
   "language": "python",
   "name": "python3"
  },
  "language_info": {
   "codemirror_mode": {
    "name": "ipython",
    "version": 3
   },
   "file_extension": ".py",
   "mimetype": "text/x-python",
   "name": "python",
   "nbconvert_exporter": "python",
   "pygments_lexer": "ipython3",
   "version": "3.8.6"
  }
 },
 "nbformat": 4,
 "nbformat_minor": 4
}
