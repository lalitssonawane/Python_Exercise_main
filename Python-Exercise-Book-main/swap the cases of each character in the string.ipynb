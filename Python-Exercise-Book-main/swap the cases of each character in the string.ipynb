{
 "cells": [
  {
   "cell_type": "markdown",
   "metadata": {},
   "source": [
    "<h3>Write a Python code to swap the cases of each character in the string. </h3>\n",
    "If the first character is in Uppercase, the swapping should start from second character else it should start from first character<br>\n",
    "ApPLe -> APplE orANgE->ORanGe"
   ]
  },
  {
   "cell_type": "code",
   "execution_count": 4,
   "metadata": {},
   "outputs": [
    {
     "name": "stdout",
     "output_type": "stream",
     "text": [
      "Type your Word :apPLe\n",
      "apPLe Converted To APplE\n"
     ]
    }
   ],
   "source": [
    "def convertOpposite(str):\n",
    "    ln = len(str)\n",
    "    result = \"\"\n",
    "    result+=str[0].upper()\n",
    "    for i in range(1,ln):\n",
    "        if str[i] >= 'a' and str[i] <= 'z':\n",
    "            result += chr(ord(str[i]) - 32)\n",
    "\n",
    "        if str[i] >= 'A' and str[i] <= 'Z':\n",
    "            result += chr(ord(str[i]) + 32)\n",
    "\n",
    "    return result\n",
    "\n",
    "#Main Code\n",
    "chara = input(\"Type your Word :\")\n",
    "print(chara, \"Converted To\", convertOpposite(chara))\n"
   ]
  },
  {
   "cell_type": "code",
   "execution_count": null,
   "metadata": {},
   "outputs": [],
   "source": []
  }
 ],
 "metadata": {
  "kernelspec": {
   "display_name": "Python 3",
   "language": "python",
   "name": "python3"
  },
  "language_info": {
   "codemirror_mode": {
    "name": "ipython",
    "version": 3
   },
   "file_extension": ".py",
   "mimetype": "text/x-python",
   "name": "python",
   "nbconvert_exporter": "python",
   "pygments_lexer": "ipython3",
   "version": "3.8.6"
  }
 },
 "nbformat": 4,
 "nbformat_minor": 4
}
